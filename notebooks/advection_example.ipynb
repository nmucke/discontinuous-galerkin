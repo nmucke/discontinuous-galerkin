{
 "cells": [
  {
   "cell_type": "code",
   "execution_count": 1,
   "metadata": {},
   "outputs": [],
   "source": [
    "import numpy"
   ]
  },
  {
   "cell_type": "code",
   "execution_count": null,
   "metadata": {},
   "outputs": [],
   "source": [
    "class AdvectionEqution(DG.base_model):\n",
    "    def __init__(self, mesh, degree, c):\n",
    "        super().__init__(mesh, degree)\n",
    "        self.c = c\n",
    "\n",
    "        mesh = {\n",
    "            num_elements: 100,\n",
    "            domain: [0.0, 1.0],\n",
    "            poly_order: 1,\n",
    "        }\n",
    "\n",
    "    def initial_condition(self, x):\n",
    "        return numpy.where(x < 0.5, 1.0, 0.0)\n",
    "\n",
    "    def flux(self, u):\n",
    "        return self.c * u\n",
    "\n",
    "    def source(self, u):\n",
    "        return 0.0\n",
    "\n",
    "    def boundary_condition(self, x, u):\n",
    "        return u"
   ]
  }
 ],
 "metadata": {
  "kernelspec": {
   "display_name": "Python 3.8.10 64-bit",
   "language": "python",
   "name": "python3"
  },
  "language_info": {
   "codemirror_mode": {
    "name": "ipython",
    "version": 3
   },
   "file_extension": ".py",
   "mimetype": "text/x-python",
   "name": "python",
   "nbconvert_exporter": "python",
   "pygments_lexer": "ipython3",
   "version": "3.8.10"
  },
  "orig_nbformat": 4,
  "vscode": {
   "interpreter": {
    "hash": "916dbcbb3f70747c44a77c7bcd40155683ae19c65e1c03b4aa3499c5328201f1"
   }
  }
 },
 "nbformat": 4,
 "nbformat_minor": 2
}
