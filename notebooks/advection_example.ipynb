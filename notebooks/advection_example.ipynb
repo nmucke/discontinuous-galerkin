{
 "cells": [
  {
   "cell_type": "code",
   "execution_count": 62,
   "metadata": {},
   "outputs": [],
   "source": [
    "import numpy as np\n",
    "from discontinuous_galerkin.base_model import BaseModel\n",
    "from discontinuous_galerkin.start_up_routines.start_up_1D import StartUp1D"
   ]
  },
  {
   "cell_type": "code",
   "execution_count": 63,
   "metadata": {},
   "outputs": [
    {
     "ename": "ValueError",
     "evalue": "Inexact indices into sparse matrices are not allowed",
     "output_type": "error",
     "traceback": [
      "\u001b[0;31m---------------------------------------------------------------------------\u001b[0m",
      "\u001b[0;31mTypeError\u001b[0m                                 Traceback (most recent call last)",
      "File \u001b[0;32m~/cwi/discontinuous-galerkin/.venv/lib/python3.9/site-packages/scipy/sparse/_sputils.py:221\u001b[0m, in \u001b[0;36misintlike\u001b[0;34m(x)\u001b[0m\n\u001b[1;32m    220\u001b[0m \u001b[39mtry\u001b[39;00m:\n\u001b[0;32m--> 221\u001b[0m     operator\u001b[39m.\u001b[39;49mindex(x)\n\u001b[1;32m    222\u001b[0m \u001b[39mexcept\u001b[39;00m (\u001b[39mTypeError\u001b[39;00m, \u001b[39mValueError\u001b[39;00m):\n",
      "\u001b[0;31mTypeError\u001b[0m: 'numpy.float64' object cannot be interpreted as an integer",
      "\nDuring handling of the above exception, another exception occurred:\n",
      "\u001b[0;31mValueError\u001b[0m                                Traceback (most recent call last)",
      "Cell \u001b[0;32mIn[63], line 1\u001b[0m\n\u001b[0;32m----> 1\u001b[0m lol \u001b[39m=\u001b[39m StartUp1D()\n",
      "File \u001b[0;32m~/cwi/discontinuous-galerkin/src/discontinuous_galerkin/start_up_routines/start_up_1D.py:90\u001b[0m, in \u001b[0;36mStartUp1D.__init__\u001b[0;34m(self, xmin, xmax, K, N, poly)\u001b[0m\n\u001b[1;32m     87\u001b[0m \u001b[39mself\u001b[39m\u001b[39m.\u001b[39mFmask \u001b[39m=\u001b[39m np\u001b[39m.\u001b[39mconcatenate((fmask1, fmask2), axis\u001b[39m=\u001b[39m\u001b[39m0\u001b[39m)\n\u001b[1;32m     88\u001b[0m \u001b[39mself\u001b[39m\u001b[39m.\u001b[39mFx \u001b[39m=\u001b[39m \u001b[39mself\u001b[39m\u001b[39m.\u001b[39mx[\u001b[39mself\u001b[39m\u001b[39m.\u001b[39mFmask, :]\n\u001b[0;32m---> 90\u001b[0m \u001b[39mself\u001b[39m\u001b[39m.\u001b[39mEtoE, \u001b[39mself\u001b[39m\u001b[39m.\u001b[39mEtoF \u001b[39m=\u001b[39m \u001b[39mself\u001b[39;49m\u001b[39m.\u001b[39;49mConnect1D()\n\u001b[1;32m     92\u001b[0m \u001b[39mself\u001b[39m\u001b[39m.\u001b[39mvmapM, \u001b[39mself\u001b[39m\u001b[39m.\u001b[39mvmapP, \u001b[39mself\u001b[39m\u001b[39m.\u001b[39mvmapB,\u001b[39mself\u001b[39m\u001b[39m.\u001b[39mmapB,\u001b[39mself\u001b[39m\u001b[39m.\u001b[39mmapI,\\\n\u001b[1;32m     93\u001b[0m \u001b[39mself\u001b[39m\u001b[39m.\u001b[39mmapO,\u001b[39mself\u001b[39m\u001b[39m.\u001b[39mvmapI,\u001b[39mself\u001b[39m\u001b[39m.\u001b[39mvmapO \u001b[39m=\u001b[39m \u001b[39mself\u001b[39m\u001b[39m.\u001b[39mBuildMaps1D()\n\u001b[1;32m     95\u001b[0m \u001b[39mself\u001b[39m\u001b[39m.\u001b[39mnx \u001b[39m=\u001b[39m \u001b[39mself\u001b[39m\u001b[39m.\u001b[39mNormals1D(\u001b[39mself\u001b[39m)\n",
      "File \u001b[0;32m~/cwi/discontinuous-galerkin/src/discontinuous_galerkin/start_up_routines/start_up_1D.py:163\u001b[0m, in \u001b[0;36mStartUp1D.Connect1D\u001b[0;34m(self)\u001b[0m\n\u001b[1;32m    161\u001b[0m \u001b[39mfor\u001b[39;00m k \u001b[39min\u001b[39;00m \u001b[39mrange\u001b[39m(\u001b[39m0\u001b[39m, \u001b[39mself\u001b[39m\u001b[39m.\u001b[39mK):\n\u001b[1;32m    162\u001b[0m     \u001b[39mfor\u001b[39;00m face \u001b[39min\u001b[39;00m \u001b[39mrange\u001b[39m(\u001b[39m0\u001b[39m, \u001b[39mself\u001b[39m\u001b[39m.\u001b[39mNfaces):\n\u001b[0;32m--> 163\u001b[0m         SpFToV[sk, \u001b[39mself\u001b[39;49m\u001b[39m.\u001b[39;49mEtoV[k, vn[face]]] \u001b[39m=\u001b[39m \u001b[39m1.\u001b[39m\n\u001b[1;32m    164\u001b[0m         sk \u001b[39m=\u001b[39m sk \u001b[39m+\u001b[39m \u001b[39m1\u001b[39m\n\u001b[1;32m    166\u001b[0m SpFToF \u001b[39m=\u001b[39m np\u001b[39m.\u001b[39mdot(SpFToV, np\u001b[39m.\u001b[39mtranspose(SpFToV)) \u001b[39m-\u001b[39m sps\u001b[39m.\u001b[39meye(TotalFaces)\n",
      "File \u001b[0;32m~/cwi/discontinuous-galerkin/.venv/lib/python3.9/site-packages/scipy/sparse/_lil.py:332\u001b[0m, in \u001b[0;36mlil_matrix.__setitem__\u001b[0;34m(self, key, x)\u001b[0m\n\u001b[1;32m    330\u001b[0m     \u001b[39mreturn\u001b[39;00m \u001b[39mself\u001b[39m\u001b[39m.\u001b[39m_set_intXint(key[\u001b[39m0\u001b[39m], key[\u001b[39m1\u001b[39m], x)\n\u001b[1;32m    331\u001b[0m \u001b[39m# Everything else takes the normal path.\u001b[39;00m\n\u001b[0;32m--> 332\u001b[0m IndexMixin\u001b[39m.\u001b[39;49m\u001b[39m__setitem__\u001b[39;49m(\u001b[39mself\u001b[39;49m, key, x)\n",
      "File \u001b[0;32m~/cwi/discontinuous-galerkin/.venv/lib/python3.9/site-packages/scipy/sparse/_index.py:97\u001b[0m, in \u001b[0;36mIndexMixin.__setitem__\u001b[0;34m(self, key, x)\u001b[0m\n\u001b[1;32m     96\u001b[0m \u001b[39mdef\u001b[39;00m \u001b[39m__setitem__\u001b[39m(\u001b[39mself\u001b[39m, key, x):\n\u001b[0;32m---> 97\u001b[0m     row, col \u001b[39m=\u001b[39m \u001b[39mself\u001b[39;49m\u001b[39m.\u001b[39;49m_validate_indices(key)\n\u001b[1;32m     99\u001b[0m     \u001b[39mif\u001b[39;00m \u001b[39misinstance\u001b[39m(row, INT_TYPES) \u001b[39mand\u001b[39;00m \u001b[39misinstance\u001b[39m(col, INT_TYPES):\n\u001b[1;32m    100\u001b[0m         x \u001b[39m=\u001b[39m np\u001b[39m.\u001b[39masarray(x, dtype\u001b[39m=\u001b[39m\u001b[39mself\u001b[39m\u001b[39m.\u001b[39mdtype)\n",
      "File \u001b[0;32m~/cwi/discontinuous-galerkin/.venv/lib/python3.9/site-packages/scipy/sparse/_index.py:161\u001b[0m, in \u001b[0;36mIndexMixin._validate_indices\u001b[0;34m(self, key)\u001b[0m\n\u001b[1;32m    158\u001b[0m \u001b[39melif\u001b[39;00m \u001b[39mnot\u001b[39;00m \u001b[39misinstance\u001b[39m(row, \u001b[39mslice\u001b[39m):\n\u001b[1;32m    159\u001b[0m     row \u001b[39m=\u001b[39m \u001b[39mself\u001b[39m\u001b[39m.\u001b[39m_asindices(row, M)\n\u001b[0;32m--> 161\u001b[0m \u001b[39mif\u001b[39;00m isintlike(col):\n\u001b[1;32m    162\u001b[0m     col \u001b[39m=\u001b[39m \u001b[39mint\u001b[39m(col)\n\u001b[1;32m    163\u001b[0m     \u001b[39mif\u001b[39;00m col \u001b[39m<\u001b[39m \u001b[39m-\u001b[39mN \u001b[39mor\u001b[39;00m col \u001b[39m>\u001b[39m\u001b[39m=\u001b[39m N:\n",
      "File \u001b[0;32m~/cwi/discontinuous-galerkin/.venv/lib/python3.9/site-packages/scipy/sparse/_sputils.py:229\u001b[0m, in \u001b[0;36misintlike\u001b[0;34m(x)\u001b[0m\n\u001b[1;32m    227\u001b[0m     \u001b[39mif\u001b[39;00m loose_int:\n\u001b[1;32m    228\u001b[0m         msg \u001b[39m=\u001b[39m \u001b[39m\"\u001b[39m\u001b[39mInexact indices into sparse matrices are not allowed\u001b[39m\u001b[39m\"\u001b[39m\n\u001b[0;32m--> 229\u001b[0m         \u001b[39mraise\u001b[39;00m \u001b[39mValueError\u001b[39;00m(msg)\n\u001b[1;32m    230\u001b[0m     \u001b[39mreturn\u001b[39;00m loose_int\n\u001b[1;32m    231\u001b[0m \u001b[39mreturn\u001b[39;00m \u001b[39mTrue\u001b[39;00m\n",
      "\u001b[0;31mValueError\u001b[0m: Inexact indices into sparse matrices are not allowed"
     ]
    }
   ],
   "source": [
    "lol = StartUp1D()"
   ]
  },
  {
   "cell_type": "code",
   "execution_count": 60,
   "metadata": {},
   "outputs": [
    {
     "ename": "TypeError",
     "evalue": "object.__init__() takes exactly one argument (the instance to initialize)",
     "output_type": "error",
     "traceback": [
      "\u001b[0;31m---------------------------------------------------------------------------\u001b[0m",
      "\u001b[0;31mTypeError\u001b[0m                                 Traceback (most recent call last)",
      "Cell \u001b[0;32mIn[60], line 1\u001b[0m\n\u001b[0;32m----> 1\u001b[0m lol \u001b[39m=\u001b[39m BaseModel()\n",
      "File \u001b[0;32m~/cwi/discontinuous-galerkin/src/discontinuous_galerkin/base_model.py:22\u001b[0m, in \u001b[0;36mBaseModel.__init__\u001b[0;34m(self, xmin, xmax, K, N, poly_type, stabilizer, time_stepper)\u001b[0m\n\u001b[1;32m     12\u001b[0m \u001b[39mdef\u001b[39;00m \u001b[39m__init__\u001b[39m(\n\u001b[1;32m     13\u001b[0m     \u001b[39mself\u001b[39m, \n\u001b[1;32m     14\u001b[0m     xmin\u001b[39m=\u001b[39m\u001b[39m0.\u001b[39m,\n\u001b[0;32m   (...)\u001b[0m\n\u001b[1;32m     20\u001b[0m     time_stepper\u001b[39m=\u001b[39m\u001b[39m'\u001b[39m\u001b[39mImplicitEuler\u001b[39m\u001b[39m'\u001b[39m\n\u001b[1;32m     21\u001b[0m     ):\n\u001b[0;32m---> 22\u001b[0m     \u001b[39msuper\u001b[39;49m(StartUp1D, \u001b[39mself\u001b[39;49m)\u001b[39m.\u001b[39;49m\u001b[39m__init__\u001b[39;49m(\n\u001b[1;32m     23\u001b[0m         xmin\u001b[39m=\u001b[39;49mxmin,\n\u001b[1;32m     24\u001b[0m         xmax\u001b[39m=\u001b[39;49mxmax,\n\u001b[1;32m     25\u001b[0m         K\u001b[39m=\u001b[39;49mK,\n\u001b[1;32m     26\u001b[0m         N\u001b[39m=\u001b[39;49mN,\n\u001b[1;32m     27\u001b[0m         poly\u001b[39m=\u001b[39;49mpoly_type\n\u001b[1;32m     28\u001b[0m     )\n\u001b[1;32m     29\u001b[0m     \u001b[39mself\u001b[39m\u001b[39m.\u001b[39mxmin \u001b[39m=\u001b[39m xmin\n\u001b[1;32m     30\u001b[0m     \u001b[39mself\u001b[39m\u001b[39m.\u001b[39mxmax \u001b[39m=\u001b[39m xmax\n",
      "\u001b[0;31mTypeError\u001b[0m: object.__init__() takes exactly one argument (the instance to initialize)"
     ]
    }
   ],
   "source": [
    "lol = BaseModel()"
   ]
  },
  {
   "cell_type": "code",
   "execution_count": 31,
   "metadata": {},
   "outputs": [
    {
     "data": {
      "text/plain": [
       "BaseModel"
      ]
     },
     "execution_count": 31,
     "metadata": {},
     "output_type": "execute_result"
    }
   ],
   "source": [
    "lol"
   ]
  },
  {
   "cell_type": "code",
   "execution_count": null,
   "metadata": {},
   "outputs": [],
   "source": [
    "DG_params = {\n",
    "    'xmin': 0, \n",
    "    'xmax': 1, \n",
    "    'num_elements': 10, \n",
    "    'poly_order': 5, \n",
    "    'poly_type': 'legendre'\n",
    "    }"
   ]
  },
  {
   "cell_type": "code",
   "execution_count": null,
   "metadata": {},
   "outputs": [],
   "source": [
    "class AdvectionEquetion(DG.base_model):\n",
    "    def __init__(self, mesh, degree, c):\n",
    "        super().__init__(mesh, degree)\n",
    "        self.c = c\n",
    "\n",
    "        mesh = {\n",
    "            num_elements: 100,\n",
    "            domain: [0.0, 1.0],\n",
    "            poly_order: 1,\n",
    "        }\n",
    "\n",
    "    def initial_condition(self, x):\n",
    "        return numpy.where(x < 0.5, 1.0, 0.0)\n",
    "\n",
    "    def flux(self, u):\n",
    "        return self.c * u\n",
    "\n",
    "    def source(self, u):\n",
    "        return 0.0\n",
    "\n",
    "    def boundary_condition(self, x, u):\n",
    "        return u"
   ]
  },
  {
   "cell_type": "code",
   "execution_count": null,
   "metadata": {},
   "outputs": [],
   "source": [
    "AdvectionEquetion.solve(t0=0, tend=10)"
   ]
  }
 ],
 "metadata": {
  "kernelspec": {
   "display_name": "Python 3.9.7 ('.venv': venv)",
   "language": "python",
   "name": "python3"
  },
  "language_info": {
   "codemirror_mode": {
    "name": "ipython",
    "version": 3
   },
   "file_extension": ".py",
   "mimetype": "text/x-python",
   "name": "python",
   "nbconvert_exporter": "python",
   "pygments_lexer": "ipython3",
   "version": "3.9.7"
  },
  "orig_nbformat": 4,
  "vscode": {
   "interpreter": {
    "hash": "ec516f97f60e4f4317cc8799cebc8df5df5e6629ef91ac3bf2606814a715b880"
   }
  }
 },
 "nbformat": 4,
 "nbformat_minor": 2
}
